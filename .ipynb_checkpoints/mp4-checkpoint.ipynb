{
 "cells": [
  {
   "cell_type": "code",
   "execution_count": 125,
   "id": "90b36b19-2396-47f6-aeeb-eeddddc059b2",
   "metadata": {},
   "outputs": [
    {
     "data": {
      "image/png": "[encoded data removed]",
      "text/plain": [
       "<Figure size 640x480 with 1 Axes>"
      ]
     },
     "metadata": {},
     "output_type": "display_data"
    }
   ],
   "source": [
    "\n",
    "# Load the image\n",
    "img1 = Image.open('test.png')\n",
    "img1hsv = img1.convert('HSV')\n",
    "img_arr = np.array(img1hsv)\n",
    "\n",
    "# Create the histogram\n",
    "hist, _, _ = np.histogram2d(img_arr[..., 1].ravel(), img_arr[..., 0].ravel(), bins=256)\n",
    "\n",
    "# Display the histogram\n",
    "plt.imshow(hist.T, origin='lower')\n",
    "plt.xlabel('H channel')\n",
    "plt.ylabel('S channel')\n",
    "plt.show()"
   ]
  },
  {
   "cell_type": "code",
   "execution_count": 193,
   "id": "3e945849-5292-47d6-a402-6a0d433bad0e",
   "metadata": {},
   "outputs": [
    {
     "name": "stdout",
     "output_type": "stream",
     "text": [
      "[5, 22] [53, 116] [65, 133]\n",
      "[5, 31] [53, 165] [28, 173]\n",
      "[5, 31] [53, 165] [28, 225]\n",
      "[2, 31] [53, 165] [28, 225]\n",
      "[2, 31] [53, 191] [28, 225]\n",
      "[2, 31] [53, 191] [28, 225]\n",
      "[2, 31] [53, 191] [28, 225]\n",
      "[1, 253] [36, 232] [28, 250]\n",
      "[1, 253] [36, 241] [28, 254]\n"
     ]
    }
   ],
   "source": [
    "from PIL import Image\n",
    "import numpy as np\n",
    "import matplotlib.pyplot as plt\n",
    "from collections import defaultdict\n",
    "\n",
    "by_color = defaultdict(int)\n",
    "train = [\"train.png\",\"train2.png\",\"train3.png\",\"train4.png\",\"train5.png\",\"train6.png\",\"train7.png\",\"train8.png\",\"train9.png\"]\n",
    "hue = []\n",
    "satu = []\n",
    "vv = []\n",
    "for t in train:\n",
    "    img = Image.open(t)\n",
    "    imghsv = img.convert('HSV')\n",
    "    for pixel in imghsv.getdata():\n",
    "        by_color[pixel] += 1\n",
    "    for x in by_color.keys():\n",
    "        if by_color[x] >= 1:\n",
    "            hue.append(x[0])\n",
    "            satu.append(x[1])\n",
    "            vv.append(x[2])\n",
    "    hr = [min(hue),max(hue)]\n",
    "    sr = [min(satu),max(satu)]\n",
    "    vvr = [min(vv),max(vv)]\n",
    "    print(hr,sr,vvr)\n",
    "# plt.hist(by_color.values(), by_color.keys())\n",
    "# plt.xlabel('H channel')\n",
    "# plt.ylabel('S channel')\n",
    "# plt.show()"
   ]
  },
  {
   "cell_type": "code",
   "execution_count": 186,
   "id": "7f6ec73b-36e9-48e5-b01b-194281fe8707",
   "metadata": {},
   "outputs": [],
   "source": [
    "img = Image.open('pointer1.bmp')\n",
    "xx=img.size[0]\n",
    "yy=img.size[0]\n",
    "sc=200/xx\n",
    "img = img.resize((200,int(yy/sc)))\n",
    "imghsv = img.convert('HSV')\n",
    "p = np.array(imghsv)\n",
    "for i,x in enumerate(p):\n",
    "    for j,y in enumerate(x):\n",
    "        if y[0] in list(range(hr[0],hr[1])) and y[1] in list(range(sr[0],sr[1])) and y[2] in list(range(vvr[0],vvr[1])):\n",
    "            p[i,j][0] = 255\n",
    "            p[i,j][1] = 255\n",
    "            p[i,j][2] = 255\n",
    "        else:\n",
    "            p[i,j][0] = 0\n",
    "            p[i,j][1] = 0\n",
    "            p[i,j][2] = 0\n",
    "\n",
    "img = Image.fromarray(p.astype(np.uint8))\n",
    "imgrgb = img.convert('RGB')\n",
    "filen = \"chand.png\"\n",
    "img.show()\n"
   ]
  }
 ],
 "metadata": {
  "kernelspec": {
   "display_name": "Python 3 (ipykernel)",
   "language": "python",
   "name": "python3"
  },
  "language_info": {
   "codemirror_mode": {
    "name": "ipython",
    "version": 3
   },
   "file_extension": ".py",
   "mimetype": "text/x-python",
   "name": "python",
   "nbconvert_exporter": "python",
   "pygments_lexer": "ipython3",
   "version": "3.9.12"
  }
 },
 "nbformat": 4,
 "nbformat_minor": 5
}
